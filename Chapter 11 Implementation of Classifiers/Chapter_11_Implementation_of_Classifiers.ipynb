{
  "nbformat": 4,
  "nbformat_minor": 0,
  "metadata": {
    "colab": {
      "name": "Chapter 11 Implementation of Classifiers .ipynb",
      "provenance": [],
      "collapsed_sections": []
    },
    "kernelspec": {
      "name": "python3",
      "display_name": "Python 3"
    },
    "language_info": {
      "name": "python"
    }
  },
  "cells": [
    {
      "cell_type": "markdown",
      "metadata": {
        "id": "NNAZ1hPh1C_G"
      },
      "source": [
        "# Classifier – I (Decision Tree Classifier)"
      ]
    },
    {
      "cell_type": "markdown",
      "metadata": {
        "id": "Nqd5yo6Zomjb"
      },
      "source": [
        "1.1: Importing the Libraries"
      ]
    },
    {
      "cell_type": "code",
      "metadata": {
        "id": "ebba3nHdoPaN"
      },
      "source": [
        "#Importing the Libraries\n",
        "import numpy as np\n",
        "import matplotlib.pyplot as plt\n",
        "import pandas as pd "
      ],
      "execution_count": 564,
      "outputs": []
    },
    {
      "cell_type": "markdown",
      "metadata": {
        "id": "XMOQBOa6p5gf"
      },
      "source": [
        "1.2: Importing the Dataset"
      ]
    },
    {
      "cell_type": "code",
      "metadata": {
        "id": "jVD-3tyioSFr"
      },
      "source": [
        "#Importing the Dataset\n",
        "PATH = '/content/drive/MyDrive/CHapter ML/Alexa_dataset.csv'\n",
        "Dataset =  pd.read_csv(PATH) \n",
        "X = Dataset.iloc[:, [2, 3]].values\n",
        "y = Dataset.iloc[:, 4].values"
      ],
      "execution_count": 565,
      "outputs": []
    },
    {
      "cell_type": "markdown",
      "metadata": {
        "id": "covFBuBjp8cG"
      },
      "source": [
        "1.3: Splitting the dataset into the Training set and Test set "
      ]
    },
    {
      "cell_type": "code",
      "metadata": {
        "id": "vkKgI0w_oUwj"
      },
      "source": [
        "#Splitting the dataset into the Training set and Test set \n",
        "from sklearn.model_selection import train_test_split\n",
        "X_train, X_test, y_train, y_test = train_test_split(X, y, test_size = 0.25, random_state = 0)"
      ],
      "execution_count": 566,
      "outputs": []
    },
    {
      "cell_type": "markdown",
      "metadata": {
        "id": "dAUjivwqp__7"
      },
      "source": [
        "1.4: Feature Scaling "
      ]
    },
    {
      "cell_type": "code",
      "metadata": {
        "id": "5DDzoXiBoX-8"
      },
      "source": [
        "#Feature Scaling \n",
        "from sklearn.preprocessing import StandardScaler\n",
        "scale_X = StandardScaler()\n",
        "X_train = scale_X.fit_transform(X_train)\n",
        "X_test = scale_X.transform(X_test)"
      ],
      "execution_count": 567,
      "outputs": []
    },
    {
      "cell_type": "markdown",
      "metadata": {
        "id": "kL_NXbqQqGaR"
      },
      "source": [
        "1.5: Fitting Decision Tree Classification to the Training set "
      ]
    },
    {
      "cell_type": "code",
      "metadata": {
        "colab": {
          "base_uri": "https://localhost:8080/"
        },
        "id": "lQnL-HVcoZ-0",
        "outputId": "ba70a02f-cac2-4845-88f2-a9a3f32c0e5a"
      },
      "source": [
        "# Classifier – I (Decision Tree Classifier)\n",
        "# Fitting Decision Tree Classification to the Training set \n",
        "from sklearn.tree import DecisionTreeClassifier\n",
        "classifier = DecisionTreeClassifier( criterion =  'entropy', random_state = 0)\n",
        "classifier.fit(X_train, y_train)"
      ],
      "execution_count": 568,
      "outputs": [
        {
          "output_type": "execute_result",
          "data": {
            "text/plain": [
              "DecisionTreeClassifier(ccp_alpha=0.0, class_weight=None, criterion='entropy',\n",
              "                       max_depth=None, max_features=None, max_leaf_nodes=None,\n",
              "                       min_impurity_decrease=0.0, min_impurity_split=None,\n",
              "                       min_samples_leaf=1, min_samples_split=2,\n",
              "                       min_weight_fraction_leaf=0.0, presort='deprecated',\n",
              "                       random_state=0, splitter='best')"
            ]
          },
          "metadata": {},
          "execution_count": 568
        }
      ]
    },
    {
      "cell_type": "markdown",
      "metadata": {
        "id": "qOV-4OZ4qfP6"
      },
      "source": [
        "1.5:\tPredicting the Decision Tree Classifier"
      ]
    },
    {
      "cell_type": "code",
      "metadata": {
        "id": "4Q4QzUiloch1"
      },
      "source": [
        "# Predicting the Decision Tree Classifier\n",
        "y_pred = classifier.predict(X_test)"
      ],
      "execution_count": 569,
      "outputs": []
    },
    {
      "cell_type": "markdown",
      "metadata": {
        "id": "iB2QEbdTqKNd"
      },
      "source": [
        "1.6: Making the confusion matrix"
      ]
    },
    {
      "cell_type": "code",
      "metadata": {
        "id": "ds5E9ypNofJt"
      },
      "source": [
        "#Making the confusion matrix\n",
        "from sklearn.metrics import confusion_matrix\n",
        "cm = confusion_matrix(y_test, y_pred)"
      ],
      "execution_count": 570,
      "outputs": []
    },
    {
      "cell_type": "markdown",
      "metadata": {
        "id": "4dDZvJ4fqn1x"
      },
      "source": [
        "1.7: Performance metrics"
      ]
    },
    {
      "cell_type": "code",
      "metadata": {
        "colab": {
          "base_uri": "https://localhost:8080/"
        },
        "id": "vk4QU0EIog_7",
        "outputId": "264c0b9f-dbf0-4836-db7f-0d806ed7ea8a"
      },
      "source": [
        "#Performance metrics\n",
        "# Accuracy\n",
        "from sklearn.metrics import accuracy_score\n",
        "accuracy = accuracy_score(y_test, y_pred)\n",
        "print('Accuracy is %f' % accuracy)\n",
        "\n",
        "#Precision\n",
        "from sklearn.metrics import precision_score\n",
        "precision = precision_score(y_test, y_pred)\n",
        "print('Precision is %f' % precision)\n",
        " \n",
        "# Recall\n",
        "from sklearn.metrics import recall_score\n",
        "recall = recall_score(y_test, y_pred)\n",
        "print('Recall is %f' % recall) "
      ],
      "execution_count": 571,
      "outputs": [
        {
          "output_type": "stream",
          "name": "stdout",
          "text": [
            "Accuracy is 0.910000\n",
            "Precision is 0.828571\n",
            "Recall is 0.906250\n"
          ]
        }
      ]
    },
    {
      "cell_type": "markdown",
      "metadata": {
        "id": "jXndQmAKq6EP"
      },
      "source": [
        "1.8: Function definition for visualization of results"
      ]
    },
    {
      "cell_type": "code",
      "metadata": {
        "id": "hIQcebwnkfDv"
      },
      "source": [
        "# Function definition for visualization of results\n",
        "def Visualizer(argument1, arguement2):\n",
        "  from matplotlib.colors import ListedColormap\n",
        "  X_set, y_set = X_test, y_test\n",
        "  X1, X2 = np.meshgrid(np.arange(start=X_set[:,0].min()-1, stop        \n",
        "  =X_set[:,0].max()+1, step=0.01), \n",
        "  np.arange(start=X_set[:, 1].min() - 1, stop = \n",
        "  X_set[:, 1].max() + 1, step = 0.01))\n",
        "  plt.contourf(X1,X2,classifier.predict(np.array([X1.ravel(), \n",
        "  X2.ravel()]).T).reshape(X1.shape),\n",
        "  alpha= 0.75, cmap = ListedColormap(('red', 'green')))\n",
        "\n",
        "  plt.xlim(X1.min(), X1.max())\n",
        "  plt.ylim(X2.min(), X2.max())\n",
        "  for i, j in enumerate(np.unique(y_set)):\n",
        "    plt.scatter(X_set[y_set == j, 0], X_set[y_set == j, 1],\n",
        "    c = ListedColormap(('red', 'green'))(i), label=j)\n",
        "  plt.xlabel('Age')\n",
        "  plt.ylabel('Minutes_of_Music_Consumed')\n",
        "  plt.legend()\n",
        "  plt.show()"
      ],
      "execution_count": 572,
      "outputs": []
    },
    {
      "cell_type": "markdown",
      "metadata": {
        "id": "zy-fqwRZq-xw"
      },
      "source": [
        "1.9: Visualizing the Training set results"
      ]
    },
    {
      "cell_type": "code",
      "metadata": {
        "colab": {
          "base_uri": "https://localhost:8080/",
          "height": 336
        },
        "id": "9lZ12jrxrGob",
        "outputId": "c819b686-0cc6-4de2-a75c-c1bcf6820eab"
      },
      "source": [
        "#Visualizing the Training set results\n",
        "Visualizer(X_train, y_train) "
      ],
      "execution_count": 573,
      "outputs": [
        {
          "output_type": "stream",
          "name": "stderr",
          "text": [
            "*c* argument looks like a single numeric RGB or RGBA sequence, which should be avoided as value-mapping will have precedence in case its length matches with *x* & *y*.  Please use the *color* keyword-argument or provide a 2-D array with a single row if you intend to specify the same RGB or RGBA value for all points.\n",
            "*c* argument looks like a single numeric RGB or RGBA sequence, which should be avoided as value-mapping will have precedence in case its length matches with *x* & *y*.  Please use the *color* keyword-argument or provide a 2-D array with a single row if you intend to specify the same RGB or RGBA value for all points.\n"
          ]
        },
        {
          "output_type": "display_data",
          "data": {
            "image/png": "[encoded data removed]",
            "text/plain": [
              "<Figure size 432x288 with 1 Axes>"
            ]
          },
          "metadata": {
            "needs_background": "light"
          }
        }
      ]
    },
    {
      "cell_type": "markdown",
      "metadata": {
        "id": "rN0vAiJWrIIu"
      },
      "source": [
        "1.10: Visualizing the Test set results"
      ]
    },
    {
      "cell_type": "code",
      "metadata": {
        "colab": {
          "base_uri": "https://localhost:8080/",
          "height": 336
        },
        "id": "bsvwb1UOrK_S",
        "outputId": "213b43b6-8140-4500-fed6-da26fe8e5c5a"
      },
      "source": [
        "#Visualizing the Test set results\n",
        "Visualizer(X_test, y_test)"
      ],
      "execution_count": 574,
      "outputs": [
        {
          "output_type": "stream",
          "name": "stderr",
          "text": [
            "*c* argument looks like a single numeric RGB or RGBA sequence, which should be avoided as value-mapping will have precedence in case its length matches with *x* & *y*.  Please use the *color* keyword-argument or provide a 2-D array with a single row if you intend to specify the same RGB or RGBA value for all points.\n",
            "*c* argument looks like a single numeric RGB or RGBA sequence, which should be avoided as value-mapping will have precedence in case its length matches with *x* & *y*.  Please use the *color* keyword-argument or provide a 2-D array with a single row if you intend to specify the same RGB or RGBA value for all points.\n"
          ]
        },
        {
          "output_type": "display_data",
          "data": {
            "image/png": "[encoded data removed]",
            "text/plain": [
              "<Figure size 432x288 with 1 Axes>"
            ]
          },
          "metadata": {
            "needs_background": "light"
          }
        }
      ]
    },
    {
      "cell_type": "markdown",
      "metadata": {
        "id": "7KuTc9CQt0bC"
      },
      "source": [
        "# Classifier – II (Random Forest Classifier)"
      ]
    },
    {
      "cell_type": "markdown",
      "metadata": {
        "id": "7LdHMbct1Rxw"
      },
      "source": [
        "2.1: Importing the Libraries"
      ]
    },
    {
      "cell_type": "code",
      "metadata": {
        "id": "rEw77mo-1Rxw"
      },
      "source": [
        "#Importing the Libraries\n",
        "import numpy as np\n",
        "import matplotlib.pyplot as plt\n",
        "import pandas as pd "
      ],
      "execution_count": 575,
      "outputs": []
    },
    {
      "cell_type": "markdown",
      "metadata": {
        "id": "pQOdoLy91Rxw"
      },
      "source": [
        "2.2: Importing the Dataset"
      ]
    },
    {
      "cell_type": "code",
      "metadata": {
        "id": "JfpAc7KT1Rxx"
      },
      "source": [
        "#Importing the Dataset\n",
        "Dataset =  pd.read_csv(PATH) \n",
        "X = Dataset.iloc[:, [2, 3]].values\n",
        "y = Dataset.iloc[:, 4].values"
      ],
      "execution_count": 576,
      "outputs": []
    },
    {
      "cell_type": "markdown",
      "metadata": {
        "id": "d8LT2Auq1Rxx"
      },
      "source": [
        "2.3: Splitting the dataset into the Training set and Test set "
      ]
    },
    {
      "cell_type": "code",
      "metadata": {
        "id": "VCLXz1CR1Rxy"
      },
      "source": [
        "#Splitting the dataset into the Training set and Test set \n",
        "from sklearn.model_selection import train_test_split\n",
        "X_train, X_test, y_train, y_test = train_test_split(X, y, test_size = 0.25, random_state = 0)"
      ],
      "execution_count": 577,
      "outputs": []
    },
    {
      "cell_type": "markdown",
      "metadata": {
        "id": "yf6Qst2Q1Rxy"
      },
      "source": [
        "2.4: Feature Scaling "
      ]
    },
    {
      "cell_type": "code",
      "metadata": {
        "id": "B-D9ui_n1Rxy"
      },
      "source": [
        "#Feature Scaling \n",
        "from sklearn.preprocessing import StandardScaler\n",
        "scale_X = StandardScaler()\n",
        "X_train = scale_X.fit_transform(X_train)\n",
        "X_test = scale_X.transform(X_test)"
      ],
      "execution_count": 578,
      "outputs": []
    },
    {
      "cell_type": "markdown",
      "metadata": {
        "id": "k9PM4WnpxrVU"
      },
      "source": [
        "2.5: Fitting Random Forest Classification to the Training set "
      ]
    },
    {
      "cell_type": "code",
      "metadata": {
        "colab": {
          "base_uri": "https://localhost:8080/"
        },
        "id": "8P6ASwynv6gi",
        "outputId": "66971e77-f1b2-45bb-c6ee-7f0c944d864a"
      },
      "source": [
        "# Classifier – II (Random Forest Classifier)\n",
        "# Fitting Random Forest Classification to the Training set \n",
        "from sklearn.ensemble import RandomForestClassifier\n",
        "classifier = RandomForestClassifier(n_estimators = 10, criterion =  'entropy', random_state = 0)\n",
        "classifier.fit(X_train, y_train)"
      ],
      "execution_count": 579,
      "outputs": [
        {
          "output_type": "execute_result",
          "data": {
            "text/plain": [
              "RandomForestClassifier(bootstrap=True, ccp_alpha=0.0, class_weight=None,\n",
              "                       criterion='entropy', max_depth=None, max_features='auto',\n",
              "                       max_leaf_nodes=None, max_samples=None,\n",
              "                       min_impurity_decrease=0.0, min_impurity_split=None,\n",
              "                       min_samples_leaf=1, min_samples_split=2,\n",
              "                       min_weight_fraction_leaf=0.0, n_estimators=10,\n",
              "                       n_jobs=None, oob_score=False, random_state=0, verbose=0,\n",
              "                       warm_start=False)"
            ]
          },
          "metadata": {},
          "execution_count": 579
        }
      ]
    },
    {
      "cell_type": "markdown",
      "metadata": {
        "id": "y282BMzAxjp9"
      },
      "source": [
        "2.6: Predicting the Test set results"
      ]
    },
    {
      "cell_type": "code",
      "metadata": {
        "id": "KkOiD53txfg3"
      },
      "source": [
        "# Predicting the Test set results\n",
        "Y_pred = classifier.predict(X_test)"
      ],
      "execution_count": 580,
      "outputs": []
    },
    {
      "cell_type": "markdown",
      "metadata": {
        "id": "Ur7cX8F0x7DD"
      },
      "source": [
        "2.7: Making the confusion matrix\n"
      ]
    },
    {
      "cell_type": "code",
      "metadata": {
        "id": "i5K_a-qKyi9M"
      },
      "source": [
        "from sklearn.metrics import confusion_matrix\n",
        "cm = confusion_matrix(y_test, y_pred)"
      ],
      "execution_count": 581,
      "outputs": []
    },
    {
      "cell_type": "markdown",
      "metadata": {
        "id": "7iQRYEkdy6oK"
      },
      "source": [
        "2.8: Performance metrics"
      ]
    },
    {
      "cell_type": "code",
      "metadata": {
        "colab": {
          "base_uri": "https://localhost:8080/"
        },
        "id": "rqsfC1Cky4hA",
        "outputId": "fec788b2-5cbe-474d-977e-817eb8eaf2c0"
      },
      "source": [
        "#Performance metrics\n",
        "# Accuracy\n",
        "from sklearn.metrics import accuracy_score\n",
        "accuracy = accuracy_score(y_test, y_pred)\n",
        "print('Accuracy is %f' % accuracy)\n",
        "\t \n",
        "# Precision\n",
        "from sklearn.metrics import precision_score\n",
        "precision = precision_score(y_test, y_pred)\n",
        "print('Precision is %f' % precision)\n",
        " \n",
        "# Recall\n",
        "from sklearn.metrics import recall_score\n",
        "recall = recall_score(y_test, y_pred)\n",
        "print('Recall is %f' % recall) "
      ],
      "execution_count": 582,
      "outputs": [
        {
          "output_type": "stream",
          "name": "stdout",
          "text": [
            "Accuracy is 0.910000\n",
            "Precision is 0.828571\n",
            "Recall is 0.906250\n"
          ]
        }
      ]
    },
    {
      "cell_type": "markdown",
      "metadata": {
        "id": "7oek9ZazzsL4"
      },
      "source": [
        "2.9: Visualizing the Training set results\n"
      ]
    },
    {
      "cell_type": "code",
      "metadata": {
        "colab": {
          "base_uri": "https://localhost:8080/",
          "height": 336
        },
        "id": "9VfT8OvVz6aE",
        "outputId": "ee8e6569-b1e9-47a6-cd43-780bfa4d55b1"
      },
      "source": [
        "#Visualizing the Training set results\n",
        "Visualizer(X_train, y_train) "
      ],
      "execution_count": 583,
      "outputs": [
        {
          "output_type": "stream",
          "name": "stderr",
          "text": [
            "*c* argument looks like a single numeric RGB or RGBA sequence, which should be avoided as value-mapping will have precedence in case its length matches with *x* & *y*.  Please use the *color* keyword-argument or provide a 2-D array with a single row if you intend to specify the same RGB or RGBA value for all points.\n",
            "*c* argument looks like a single numeric RGB or RGBA sequence, which should be avoided as value-mapping will have precedence in case its length matches with *x* & *y*.  Please use the *color* keyword-argument or provide a 2-D array with a single row if you intend to specify the same RGB or RGBA value for all points.\n"
          ]
        },
        {
          "output_type": "display_data",
          "data": {
            "image/png": "[encoded data removed]",
            "text/plain": [
              "<Figure size 432x288 with 1 Axes>"
            ]
          },
          "metadata": {
            "needs_background": "light"
          }
        }
      ]
    },
    {
      "cell_type": "markdown",
      "metadata": {
        "id": "4er3QPtG0UOm"
      },
      "source": [
        "2.10: Visualizing the Test set results"
      ]
    },
    {
      "cell_type": "code",
      "metadata": {
        "colab": {
          "base_uri": "https://localhost:8080/",
          "height": 336
        },
        "id": "GOpLhqiZ0QY2",
        "outputId": "af1ac1e5-b08d-4a69-bef0-721279316b9e"
      },
      "source": [
        "#Visualizing the Test set results\n",
        "Visualizer(X_test, y_test) "
      ],
      "execution_count": 584,
      "outputs": [
        {
          "output_type": "stream",
          "name": "stderr",
          "text": [
            "*c* argument looks like a single numeric RGB or RGBA sequence, which should be avoided as value-mapping will have precedence in case its length matches with *x* & *y*.  Please use the *color* keyword-argument or provide a 2-D array with a single row if you intend to specify the same RGB or RGBA value for all points.\n",
            "*c* argument looks like a single numeric RGB or RGBA sequence, which should be avoided as value-mapping will have precedence in case its length matches with *x* & *y*.  Please use the *color* keyword-argument or provide a 2-D array with a single row if you intend to specify the same RGB or RGBA value for all points.\n"
          ]
        },
        {
          "output_type": "display_data",
          "data": {
            "image/png": "[encoded data removed]",
            "text/plain": [
              "<Figure size 432x288 with 1 Axes>"
            ]
          },
          "metadata": {
            "needs_background": "light"
          }
        }
      ]
    },
    {
      "cell_type": "markdown",
      "metadata": {
        "id": "WDBMbSZI4YOH"
      },
      "source": [
        "# Classifier – III (Naïve Bayes Classifier)"
      ]
    },
    {
      "cell_type": "markdown",
      "metadata": {
        "id": "dgiX1Hya4YOI"
      },
      "source": [
        "3.1: Importing the Libraries"
      ]
    },
    {
      "cell_type": "code",
      "metadata": {
        "id": "2LOVn0vr4YOI"
      },
      "source": [
        "#Importing the Libraries\n",
        "import numpy as np\n",
        "import matplotlib.pyplot as plt\n",
        "import pandas as pd "
      ],
      "execution_count": 585,
      "outputs": []
    },
    {
      "cell_type": "markdown",
      "metadata": {
        "id": "OgGGWuxj4YOI"
      },
      "source": [
        "3.2: Importing the Dataset"
      ]
    },
    {
      "cell_type": "code",
      "metadata": {
        "id": "A1J2GWsj4YOJ"
      },
      "source": [
        "#Importing the Dataset\n",
        "Dataset =  pd.read_csv(PATH) \n",
        "X = Dataset.iloc[:, [2, 3]].values\n",
        "y = Dataset.iloc[:, 4].values"
      ],
      "execution_count": 586,
      "outputs": []
    },
    {
      "cell_type": "markdown",
      "metadata": {
        "id": "MCbgI-tI4YOJ"
      },
      "source": [
        "3.3: Splitting the dataset into the Training set and Test set "
      ]
    },
    {
      "cell_type": "code",
      "metadata": {
        "id": "MuPVCyaX4YOJ"
      },
      "source": [
        "#Splitting the dataset into the Training set and Test set \n",
        "from sklearn.model_selection import train_test_split\n",
        "X_train, X_test, y_train, y_test = train_test_split(X, y, test_size = 0.25, random_state = 0)"
      ],
      "execution_count": 587,
      "outputs": []
    },
    {
      "cell_type": "markdown",
      "metadata": {
        "id": "TcaX8NI_4YOJ"
      },
      "source": [
        "3.4: Feature Scaling "
      ]
    },
    {
      "cell_type": "code",
      "metadata": {
        "id": "1BLmzHcj4YOK"
      },
      "source": [
        "#Feature Scaling \n",
        "from sklearn.preprocessing import StandardScaler\n",
        "scale_X = StandardScaler()\n",
        "X_train = scale_X.fit_transform(X_train)\n",
        "X_test = scale_X.transform(X_test)"
      ],
      "execution_count": 588,
      "outputs": []
    },
    {
      "cell_type": "markdown",
      "metadata": {
        "id": "aOlMUFrd4YOK"
      },
      "source": [
        "3.5: Fitting Naive Bayes to the Training set "
      ]
    },
    {
      "cell_type": "code",
      "metadata": {
        "colab": {
          "base_uri": "https://localhost:8080/"
        },
        "id": "tKn_huCI4YOL",
        "outputId": "1c23a4a2-98d4-42f6-83ea-1a12b3703b90"
      },
      "source": [
        "# Classifier – III  (Naïve Bayes Classifier)\n",
        "# Fitting Naïve Bayes to the Training set \n",
        "from sklearn.naive_bayes import GaussianNB\n",
        "classifier = GaussianNB()\n",
        "classifier.fit(X_train, y_train)"
      ],
      "execution_count": 589,
      "outputs": [
        {
          "output_type": "execute_result",
          "data": {
            "text/plain": [
              "GaussianNB(priors=None, var_smoothing=1e-09)"
            ]
          },
          "metadata": {},
          "execution_count": 589
        }
      ]
    },
    {
      "cell_type": "markdown",
      "metadata": {
        "id": "sWaifO_G4YOM"
      },
      "source": [
        "3.6: Predicting the Test set results"
      ]
    },
    {
      "cell_type": "code",
      "metadata": {
        "id": "YG0GNmrI4YOM"
      },
      "source": [
        "# Predicting the Test set results\n",
        "Y_pred = classifier.predict(X_test)"
      ],
      "execution_count": 590,
      "outputs": []
    },
    {
      "cell_type": "markdown",
      "metadata": {
        "id": "4S5hrfei4YOM"
      },
      "source": [
        "3.7: Making the confusion matrix\n"
      ]
    },
    {
      "cell_type": "code",
      "metadata": {
        "id": "bQ2jHIZy4YON"
      },
      "source": [
        "from sklearn.metrics import confusion_matrix\n",
        "cm = confusion_matrix(y_test, y_pred)"
      ],
      "execution_count": 591,
      "outputs": []
    },
    {
      "cell_type": "markdown",
      "metadata": {
        "id": "SlKvxlwf4YON"
      },
      "source": [
        "3.8: Performance metrics"
      ]
    },
    {
      "cell_type": "code",
      "metadata": {
        "colab": {
          "base_uri": "https://localhost:8080/"
        },
        "id": "4RdPliXY4YON",
        "outputId": "707b2524-c3b9-45f8-cace-deff3c9bd575"
      },
      "source": [
        "#Performance metrics\n",
        "# Accuracy\n",
        "from sklearn.metrics import accuracy_score\n",
        "accuracy = accuracy_score(y_test, y_pred)\n",
        "print('Accuracy is %f' % accuracy)\n",
        "\t \n",
        "# Precision\n",
        "from sklearn.metrics import precision_score\n",
        "precision = precision_score(y_test, y_pred)\n",
        "print('Precision is %f' % precision)\n",
        " \n",
        "# Recall\n",
        "from sklearn.metrics import recall_score\n",
        "recall = recall_score(y_test, y_pred)\n",
        "print('Recall is %f'% recall) "
      ],
      "execution_count": 592,
      "outputs": [
        {
          "output_type": "stream",
          "name": "stdout",
          "text": [
            "Accuracy is 0.910000\n",
            "Precision is 0.828571\n",
            "Recall is 0.906250\n"
          ]
        }
      ]
    },
    {
      "cell_type": "markdown",
      "metadata": {
        "id": "mF420Z-R4YON"
      },
      "source": [
        "3.9: Visualizing the Training set results\n"
      ]
    },
    {
      "cell_type": "code",
      "metadata": {
        "colab": {
          "base_uri": "https://localhost:8080/",
          "height": 336
        },
        "id": "c7-1RCoc4YON",
        "outputId": "4236c7fb-24ca-4fa5-bdbb-1fa749d21fb0"
      },
      "source": [
        "#Visualizing the Training set results\n",
        "Visualizer(X_train, y_train) "
      ],
      "execution_count": 593,
      "outputs": [
        {
          "output_type": "stream",
          "name": "stderr",
          "text": [
            "*c* argument looks like a single numeric RGB or RGBA sequence, which should be avoided as value-mapping will have precedence in case its length matches with *x* & *y*.  Please use the *color* keyword-argument or provide a 2-D array with a single row if you intend to specify the same RGB or RGBA value for all points.\n",
            "*c* argument looks like a single numeric RGB or RGBA sequence, which should be avoided as value-mapping will have precedence in case its length matches with *x* & *y*.  Please use the *color* keyword-argument or provide a 2-D array with a single row if you intend to specify the same RGB or RGBA value for all points.\n"
          ]
        },
        {
          "output_type": "display_data",
          "data": {
            "image/png": "[encoded data removed]",
            "text/plain": [
              "<Figure size 432x288 with 1 Axes>"
            ]
          },
          "metadata": {
            "needs_background": "light"
          }
        }
      ]
    },
    {
      "cell_type": "markdown",
      "metadata": {
        "id": "lLOnfnwu4YON"
      },
      "source": [
        "3.10: Visualizing the Test set results"
      ]
    },
    {
      "cell_type": "code",
      "metadata": {
        "colab": {
          "base_uri": "https://localhost:8080/",
          "height": 336
        },
        "id": "ldVYX5S14YOO",
        "outputId": "9e9bf781-f85b-41c4-9669-711bc7dbcbdb"
      },
      "source": [
        "#Visualizing the Test set results\n",
        "Visualizer(X_test, y_test) "
      ],
      "execution_count": 594,
      "outputs": [
        {
          "output_type": "stream",
          "name": "stderr",
          "text": [
            "*c* argument looks like a single numeric RGB or RGBA sequence, which should be avoided as value-mapping will have precedence in case its length matches with *x* & *y*.  Please use the *color* keyword-argument or provide a 2-D array with a single row if you intend to specify the same RGB or RGBA value for all points.\n",
            "*c* argument looks like a single numeric RGB or RGBA sequence, which should be avoided as value-mapping will have precedence in case its length matches with *x* & *y*.  Please use the *color* keyword-argument or provide a 2-D array with a single row if you intend to specify the same RGB or RGBA value for all points.\n"
          ]
        },
        {
          "output_type": "display_data",
          "data": {
            "image/png": "[encoded data removed]",
            "text/plain": [
              "<Figure size 432x288 with 1 Axes>"
            ]
          },
          "metadata": {
            "needs_background": "light"
          }
        }
      ]
    },
    {
      "cell_type": "markdown",
      "metadata": {
        "id": "25mc4wjn9tiC"
      },
      "source": [
        "# Classifier – IV (K-Nearest Neighbors)"
      ]
    },
    {
      "cell_type": "markdown",
      "metadata": {
        "id": "qltbqHiR9tiC"
      },
      "source": [
        "4.1: Importing the Libraries"
      ]
    },
    {
      "cell_type": "code",
      "metadata": {
        "id": "UWtOfsZK9tiC"
      },
      "source": [
        "#Importing the Libraries\n",
        "import numpy as np\n",
        "import matplotlib.pyplot as plt\n",
        "import pandas as pd "
      ],
      "execution_count": 595,
      "outputs": []
    },
    {
      "cell_type": "markdown",
      "metadata": {
        "id": "q01XmHvX9tiC"
      },
      "source": [
        "4.2: Importing the Dataset"
      ]
    },
    {
      "cell_type": "code",
      "metadata": {
        "id": "RavnGw2J9tiD"
      },
      "source": [
        "#Importing the Dataset\n",
        "Dataset =  pd.read_csv(PATH) \n",
        "X = Dataset.iloc[:, [2, 3]].values\n",
        "y = Dataset.iloc[:, 4].values"
      ],
      "execution_count": 596,
      "outputs": []
    },
    {
      "cell_type": "markdown",
      "metadata": {
        "id": "V0tGSdqB9tiD"
      },
      "source": [
        "4.3: Splitting the dataset into the Training set and Test set "
      ]
    },
    {
      "cell_type": "code",
      "metadata": {
        "id": "BVBWOsj09tiD"
      },
      "source": [
        "#Splitting the dataset into the Training set and Test set \n",
        "from sklearn.model_selection import train_test_split\n",
        "X_train, X_test, y_train, y_test = train_test_split(X, y, test_size = 0.25, random_state = 0)"
      ],
      "execution_count": 597,
      "outputs": []
    },
    {
      "cell_type": "markdown",
      "metadata": {
        "id": "H-YEUYFt9tiE"
      },
      "source": [
        "4.4: Feature Scaling "
      ]
    },
    {
      "cell_type": "code",
      "metadata": {
        "id": "i4PIGOSE9tiF"
      },
      "source": [
        "#Feature Scaling \n",
        "from sklearn.preprocessing import StandardScaler\n",
        "scale_X = StandardScaler()\n",
        "X_train = scale_X.fit_transform(X_train)\n",
        "X_test = scale_X.transform(X_test)"
      ],
      "execution_count": 598,
      "outputs": []
    },
    {
      "cell_type": "markdown",
      "metadata": {
        "id": "O-5WtY4p9tiF"
      },
      "source": [
        "4.5: Fitting KNN to the Training set "
      ]
    },
    {
      "cell_type": "code",
      "metadata": {
        "colab": {
          "base_uri": "https://localhost:8080/"
        },
        "id": "bIGo9J6t9tiG",
        "outputId": "70c72347-1753-44eb-98fd-517a7768996b"
      },
      "source": [
        "# Classifier – IV  (KNN)\n",
        "# Fitting KNN to the Training set \n",
        "from sklearn.neighbors import KNeighborsClassifier\n",
        "classifier = KNeighborsClassifier( n_neighbors = 5, metric =  'minkowski', p = 2)\n",
        "classifier.fit(X_train, y_train)"
      ],
      "execution_count": 599,
      "outputs": [
        {
          "output_type": "execute_result",
          "data": {
            "text/plain": [
              "KNeighborsClassifier(algorithm='auto', leaf_size=30, metric='minkowski',\n",
              "                     metric_params=None, n_jobs=None, n_neighbors=5, p=2,\n",
              "                     weights='uniform')"
            ]
          },
          "metadata": {},
          "execution_count": 599
        }
      ]
    },
    {
      "cell_type": "markdown",
      "metadata": {
        "id": "nmkvdvqe9tiG"
      },
      "source": [
        "2.6: Predicting the Test set results"
      ]
    },
    {
      "cell_type": "code",
      "metadata": {
        "id": "Z6V2wTS69tiH"
      },
      "source": [
        "# Predicting the Test set results\n",
        "Y_pred = classifier.predict(X_test)"
      ],
      "execution_count": 600,
      "outputs": []
    },
    {
      "cell_type": "markdown",
      "metadata": {
        "id": "Ivw3BHOI9tiH"
      },
      "source": [
        "4.7: Making the confusion matrix\n"
      ]
    },
    {
      "cell_type": "code",
      "metadata": {
        "id": "oGl-HZ8T9tiH"
      },
      "source": [
        "from sklearn.metrics import confusion_matrix\n",
        "cm = confusion_matrix(y_test, y_pred)"
      ],
      "execution_count": 601,
      "outputs": []
    },
    {
      "cell_type": "markdown",
      "metadata": {
        "id": "i8Jry9Ii9tiH"
      },
      "source": [
        "4.8: Performance metrics"
      ]
    },
    {
      "cell_type": "code",
      "metadata": {
        "colab": {
          "base_uri": "https://localhost:8080/"
        },
        "id": "6Qa9rAmy9tiI",
        "outputId": "54b1edbd-dbc4-4d67-ef74-bf0a85abac46"
      },
      "source": [
        "#Performance metrics\n",
        "# Accuracy\n",
        "from sklearn.metrics import accuracy_score\n",
        "accuracy = accuracy_score(y_test, y_pred)\n",
        "print('Accuracy is %f'% accuracy)\n",
        "\t \n",
        "# Precision\n",
        "from sklearn.metrics import precision_score\n",
        "precision = precision_score(y_test, y_pred)\n",
        "print('Precision is %f' % precision)\n",
        " \n",
        "# Recall\n",
        "from sklearn.metrics import recall_score\n",
        "recall = recall_score(y_test, y_pred)\n",
        "print('Recall is %f' % recall) "
      ],
      "execution_count": 602,
      "outputs": [
        {
          "output_type": "stream",
          "name": "stdout",
          "text": [
            "Accuracy is 0.910000\n",
            "Precision is 0.828571\n",
            "Recall is 0.906250\n"
          ]
        }
      ]
    },
    {
      "cell_type": "markdown",
      "metadata": {
        "id": "CeYcxDo49tiI"
      },
      "source": [
        "4.9: Visualizing the Training set results\n"
      ]
    },
    {
      "cell_type": "code",
      "metadata": {
        "colab": {
          "base_uri": "https://localhost:8080/",
          "height": 336
        },
        "id": "r6MNiF199tiI",
        "outputId": "4413785a-e914-4d85-8620-d7e687bd4f6f"
      },
      "source": [
        "#Visualizing the Training set results\n",
        "Visualizer(X_train, y_train) "
      ],
      "execution_count": 603,
      "outputs": [
        {
          "output_type": "stream",
          "name": "stderr",
          "text": [
            "*c* argument looks like a single numeric RGB or RGBA sequence, which should be avoided as value-mapping will have precedence in case its length matches with *x* & *y*.  Please use the *color* keyword-argument or provide a 2-D array with a single row if you intend to specify the same RGB or RGBA value for all points.\n",
            "*c* argument looks like a single numeric RGB or RGBA sequence, which should be avoided as value-mapping will have precedence in case its length matches with *x* & *y*.  Please use the *color* keyword-argument or provide a 2-D array with a single row if you intend to specify the same RGB or RGBA value for all points.\n"
          ]
        },
        {
          "output_type": "display_data",
          "data": {
            "image/png": "[encoded data removed]",
            "text/plain": [
              "<Figure size 432x288 with 1 Axes>"
            ]
          },
          "metadata": {
            "needs_background": "light"
          }
        }
      ]
    },
    {
      "cell_type": "markdown",
      "metadata": {
        "id": "hsxsJ-iX9tiJ"
      },
      "source": [
        "4.10: Visualizing the Test set results"
      ]
    },
    {
      "cell_type": "code",
      "metadata": {
        "colab": {
          "base_uri": "https://localhost:8080/",
          "height": 336
        },
        "id": "XnEz2mxh9tiJ",
        "outputId": "d35ef87c-4610-496f-aa26-c591d8ba7000"
      },
      "source": [
        "#Visualizing the Test set results\n",
        "Visualizer(X_test, y_test) "
      ],
      "execution_count": 604,
      "outputs": [
        {
          "output_type": "stream",
          "name": "stderr",
          "text": [
            "*c* argument looks like a single numeric RGB or RGBA sequence, which should be avoided as value-mapping will have precedence in case its length matches with *x* & *y*.  Please use the *color* keyword-argument or provide a 2-D array with a single row if you intend to specify the same RGB or RGBA value for all points.\n",
            "*c* argument looks like a single numeric RGB or RGBA sequence, which should be avoided as value-mapping will have precedence in case its length matches with *x* & *y*.  Please use the *color* keyword-argument or provide a 2-D array with a single row if you intend to specify the same RGB or RGBA value for all points.\n"
          ]
        },
        {
          "output_type": "display_data",
          "data": {
            "image/png": "[encoded data removed]",
            "text/plain": [
              "<Figure size 432x288 with 1 Axes>"
            ]
          },
          "metadata": {
            "needs_background": "light"
          }
        }
      ]
    },
    {
      "cell_type": "markdown",
      "metadata": {
        "id": "KoeDg9jrGRWT"
      },
      "source": [
        "# Classifier – V (Logistic Regression)"
      ]
    },
    {
      "cell_type": "markdown",
      "metadata": {
        "id": "2T9PCcvJGRWU"
      },
      "source": [
        "5.1: Importing the Libraries"
      ]
    },
    {
      "cell_type": "code",
      "metadata": {
        "id": "2Dk55aW4GRWU"
      },
      "source": [
        "#Importing the Libraries\n",
        "import numpy as np\n",
        "import matplotlib.pyplot as plt\n",
        "import pandas as pd "
      ],
      "execution_count": 605,
      "outputs": []
    },
    {
      "cell_type": "markdown",
      "metadata": {
        "id": "asHOoPOMGRWU"
      },
      "source": [
        "5.2: Importing the Dataset"
      ]
    },
    {
      "cell_type": "code",
      "metadata": {
        "id": "OKm3syFUGRWV"
      },
      "source": [
        "#Importing the Dataset\n",
        "Dataset =  pd.read_csv(PATH) \n",
        "X = Dataset.iloc[:, [2, 3]].values\n",
        "y = Dataset.iloc[:, 4].values"
      ],
      "execution_count": 606,
      "outputs": []
    },
    {
      "cell_type": "markdown",
      "metadata": {
        "id": "dwzHKIgjGRWV"
      },
      "source": [
        "5.3: Splitting the dataset into the Training set and Test set "
      ]
    },
    {
      "cell_type": "code",
      "metadata": {
        "id": "crKyoNQpGRWV"
      },
      "source": [
        "#Splitting the dataset into the Training set and Test set \n",
        "from sklearn.model_selection import train_test_split\n",
        "X_train, X_test, y_train, y_test = train_test_split(X, y, test_size = 0.25, random_state = 0)"
      ],
      "execution_count": 607,
      "outputs": []
    },
    {
      "cell_type": "markdown",
      "metadata": {
        "id": "MVmy_HyBGRWV"
      },
      "source": [
        "5.4: Feature Scaling "
      ]
    },
    {
      "cell_type": "code",
      "metadata": {
        "id": "B1DAVPi0GRWW"
      },
      "source": [
        "#Feature Scaling \n",
        "from sklearn.preprocessing import StandardScaler\n",
        "scale_X = StandardScaler()\n",
        "X_train = scale_X.fit_transform(X_train)\n",
        "X_test = scale_X.transform(X_test)"
      ],
      "execution_count": 608,
      "outputs": []
    },
    {
      "cell_type": "markdown",
      "metadata": {
        "id": "B55XQE1HGRWW"
      },
      "source": [
        "5.5: Fitting LR to the Training set "
      ]
    },
    {
      "cell_type": "code",
      "metadata": {
        "colab": {
          "base_uri": "https://localhost:8080/"
        },
        "id": "WkOucp4EGRWW",
        "outputId": "8a45a44a-1f0a-4c4b-ac25-2c2237b273bf"
      },
      "source": [
        "# Classifier – V (Logistic Regression)\n",
        "# Fitting Logistic Regression to the Training set \n",
        "from sklearn.linear_model import LogisticRegression\n",
        "classifier = LogisticRegression( random_state = 0)\n",
        "classifier.fit(X_train, y_train)\n"
      ],
      "execution_count": 609,
      "outputs": [
        {
          "output_type": "execute_result",
          "data": {
            "text/plain": [
              "LogisticRegression(C=1.0, class_weight=None, dual=False, fit_intercept=True,\n",
              "                   intercept_scaling=1, l1_ratio=None, max_iter=100,\n",
              "                   multi_class='auto', n_jobs=None, penalty='l2',\n",
              "                   random_state=0, solver='lbfgs', tol=0.0001, verbose=0,\n",
              "                   warm_start=False)"
            ]
          },
          "metadata": {},
          "execution_count": 609
        }
      ]
    },
    {
      "cell_type": "markdown",
      "metadata": {
        "id": "jUroL5RAGRWW"
      },
      "source": [
        "5.6: Predicting the Test set results"
      ]
    },
    {
      "cell_type": "code",
      "metadata": {
        "id": "G15-yJgjGRWW"
      },
      "source": [
        "# Predicting the Test set results\n",
        "Y_pred = classifier.predict(X_test)"
      ],
      "execution_count": 610,
      "outputs": []
    },
    {
      "cell_type": "markdown",
      "metadata": {
        "id": "NywiOs7RGRWX"
      },
      "source": [
        "5.7: Making the confusion matrix\n"
      ]
    },
    {
      "cell_type": "code",
      "metadata": {
        "id": "1CRnC34ZGRWX"
      },
      "source": [
        "from sklearn.metrics import confusion_matrix\n",
        "cm = confusion_matrix(y_test, y_pred)"
      ],
      "execution_count": 611,
      "outputs": []
    },
    {
      "cell_type": "markdown",
      "metadata": {
        "id": "KYyis7cRGRWY"
      },
      "source": [
        "5.8: Performance metrics"
      ]
    },
    {
      "cell_type": "code",
      "metadata": {
        "colab": {
          "base_uri": "https://localhost:8080/"
        },
        "id": "eW-Az4rzGRWY",
        "outputId": "7e177cce-eeb7-4bec-a50f-f363a98e7701"
      },
      "source": [
        "#Performance metrics\n",
        "# Accuracy\n",
        "from sklearn.metrics import accuracy_score\n",
        "accuracy = accuracy_score(y_test, y_pred)\n",
        "print('Accuracy is %f'% accuracy)\n",
        "\t \n",
        "# Precision\n",
        "from sklearn.metrics import precision_score\n",
        "precision = precision_score(y_test, y_pred)\n",
        "print('Precision is %f' % precision)\n",
        " \n",
        "# Recall\n",
        "from sklearn.metrics import recall_score\n",
        "recall = recall_score(y_test, y_pred)\n",
        "print('Recall is %f' % recall) "
      ],
      "execution_count": 612,
      "outputs": [
        {
          "output_type": "stream",
          "name": "stdout",
          "text": [
            "Accuracy is 0.910000\n",
            "Precision is 0.828571\n",
            "Recall is 0.906250\n"
          ]
        }
      ]
    },
    {
      "cell_type": "markdown",
      "metadata": {
        "id": "vNKrjWw5GRWY"
      },
      "source": [
        "5.9: Visualizing the Training set results\n"
      ]
    },
    {
      "cell_type": "code",
      "metadata": {
        "colab": {
          "base_uri": "https://localhost:8080/",
          "height": 336
        },
        "id": "ok94m7bWGRWY",
        "outputId": "09883e38-f653-412d-dc8b-ef95d93f88d9"
      },
      "source": [
        "#Visualizing the Training set results\n",
        "Visualizer(X_train, y_train) "
      ],
      "execution_count": 613,
      "outputs": [
        {
          "output_type": "stream",
          "name": "stderr",
          "text": [
            "*c* argument looks like a single numeric RGB or RGBA sequence, which should be avoided as value-mapping will have precedence in case its length matches with *x* & *y*.  Please use the *color* keyword-argument or provide a 2-D array with a single row if you intend to specify the same RGB or RGBA value for all points.\n",
            "*c* argument looks like a single numeric RGB or RGBA sequence, which should be avoided as value-mapping will have precedence in case its length matches with *x* & *y*.  Please use the *color* keyword-argument or provide a 2-D array with a single row if you intend to specify the same RGB or RGBA value for all points.\n"
          ]
        },
        {
          "output_type": "display_data",
          "data": {
            "image/png": "[encoded data removed]",
            "text/plain": [
              "<Figure size 432x288 with 1 Axes>"
            ]
          },
          "metadata": {
            "needs_background": "light"
          }
        }
      ]
    },
    {
      "cell_type": "markdown",
      "metadata": {
        "id": "Fg8L_wWqGRWZ"
      },
      "source": [
        "5.10: Visualizing the Test set results"
      ]
    },
    {
      "cell_type": "code",
      "metadata": {
        "colab": {
          "base_uri": "https://localhost:8080/",
          "height": 336
        },
        "id": "4ykkV4wQGRWZ",
        "outputId": "7d274289-1cc2-4f69-eee0-249537a85e8b"
      },
      "source": [
        "#Visualizing the Test set results\n",
        "Visualizer(X_test, y_test) "
      ],
      "execution_count": 614,
      "outputs": [
        {
          "output_type": "stream",
          "name": "stderr",
          "text": [
            "*c* argument looks like a single numeric RGB or RGBA sequence, which should be avoided as value-mapping will have precedence in case its length matches with *x* & *y*.  Please use the *color* keyword-argument or provide a 2-D array with a single row if you intend to specify the same RGB or RGBA value for all points.\n",
            "*c* argument looks like a single numeric RGB or RGBA sequence, which should be avoided as value-mapping will have precedence in case its length matches with *x* & *y*.  Please use the *color* keyword-argument or provide a 2-D array with a single row if you intend to specify the same RGB or RGBA value for all points.\n"
          ]
        },
        {
          "output_type": "display_data",
          "data": {
            "image/png": "[encoded data removed]",
            "text/plain": [
              "<Figure size 432x288 with 1 Axes>"
            ]
          },
          "metadata": {
            "needs_background": "light"
          }
        }
      ]
    }
  ]
}